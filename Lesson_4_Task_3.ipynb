{
 "cells": [
  {
   "cell_type": "code",
   "execution_count": 1,
   "metadata": {},
   "outputs": [],
   "source": [
    "%matplotlib inline\n",
    "import numpy as np\n",
    "import matplotlib.pyplot as plt"
   ]
  },
  {
   "cell_type": "code",
   "execution_count": 2,
   "metadata": {
    "scrolled": true
   },
   "outputs": [
    {
     "name": "stdout",
     "output_type": "stream",
     "text": [
      "Ввдите значение расстояния между линиями в мм: 10\n",
      "Ввдите значение длинны иглы в мм: 12\n",
      "Пересекает\n"
     ]
    }
   ],
   "source": [
    "a = int(input('Ввдите значение расстояния между линиями в мм: '))\n",
    "b = int(input('Ввдите значение длинны иглы в мм: '))\n",
    "alpha = np.all([np.pi, np.pi/2])\n",
    "if np.sin(alpha)*b >= a: \n",
    "    print('Пересекает')\n",
    "if np.sin(alpha)*b < a:\n",
    "    print('Не пересекает')"
   ]
  },
  {
   "cell_type": "code",
   "execution_count": 3,
   "metadata": {},
   "outputs": [
    {
     "name": "stdout",
     "output_type": "stream",
     "text": [
      "Ввдите значение расстояния между линиями в мм: 10\n",
      "Ввдите значение длинны иглы в мм: 11\n",
      "Не пересекает\n"
     ]
    }
   ],
   "source": [
    "a = int(input('Ввдите значение расстояния между линиями в мм: '))\n",
    "b = int(input('Ввдите значение длинны иглы в мм: '))\n",
    "alpha = np.all([np.pi, np.pi/2])\n",
    "if np.sin(alpha)*b >= a:\n",
    "    print('Пересекает')\n",
    "if np.sin(alpha)*b < a:\n",
    "    print('Не пересекает')"
   ]
  },
  {
   "cell_type": "code",
   "execution_count": null,
   "metadata": {},
   "outputs": [],
   "source": []
  }
 ],
 "metadata": {
  "colab": {
   "collapsed_sections": [],
   "name": "Копия 2.2.ipynb",
   "provenance": []
  },
  "kernelspec": {
   "display_name": "Python 3 (ipykernel)",
   "language": "python",
   "name": "python3"
  },
  "language_info": {
   "codemirror_mode": {
    "name": "ipython",
    "version": 3
   },
   "file_extension": ".py",
   "mimetype": "text/x-python",
   "name": "python",
   "nbconvert_exporter": "python",
   "pygments_lexer": "ipython3",
   "version": "3.10.5"
  }
 },
 "nbformat": 4,
 "nbformat_minor": 1
}
