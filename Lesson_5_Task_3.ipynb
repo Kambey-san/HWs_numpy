{
 "cells": [
  {
   "cell_type": "code",
   "execution_count": 1,
   "metadata": {
    "id": "uRkzMzmKJEBA",
    "scrolled": true
   },
   "outputs": [],
   "source": [
    "import numpy as np\n",
    "import itertools\n",
    "import sys\n",
    "import math"
   ]
  },
  {
   "cell_type": "code",
   "execution_count": 2,
   "metadata": {
    "colab": {
     "base_uri": "https://localhost:8080/"
    },
    "id": "1FSBHdLLJEBM",
    "outputId": "f4e013be-5cfc-4b51-e161-3949870c2ba9"
   },
   "outputs": [
    {
     "name": "stdout",
     "output_type": "stream",
     "text": [
      "Количество успехов:  367\n",
      "Количество испытаний:  1000\n",
      "Оценка вероятности:  0.367\n",
      "Вероятность события ровно k раз в n независимых испытаниях:  7.358103573089342e-18\n"
     ]
    }
   ],
   "source": [
    "k, n = 0, 1000\n",
    "a = np.random.randint(0, 2, n)\n",
    "b = np.random.randint(0, 2, n)\n",
    "c = np.random.randint(0, 2, n)\n",
    "d = np.random.randint(0, 2, n)\n",
    "x = a + b + c + d\n",
    "for i in range(0, n):\n",
    "    if x[i] == 2:\n",
    "        k = k + 1\n",
    "        \n",
    "factorial_1 = 1\n",
    "factorial_2 = 1\n",
    "factorial_3 = 1\n",
    "for i in range(2, n+1):\n",
    "    factorial_1 *= i\n",
    "for i in range(2, k+1):\n",
    "    factorial_2 *= i\n",
    "for i in range(2, n-k+1):\n",
    "    factorial_3 *= i\n",
    "    \n",
    "P = (factorial_1/(factorial_2*factorial_3))*0.5**k*0.5**(n-k)\n",
    "\n",
    "#print(k, n, k/n, P)\n",
    "print('Количество успехов: ', k)\n",
    "print('Количество испытаний: ', n)\n",
    "print('Оценка вероятности: ', k/n)\n",
    "print('Вероятность события ровно k раз в n независимых испытаниях: ', P)\n"
   ]
  },
  {
   "cell_type": "code",
   "execution_count": 5,
   "metadata": {
    "id": "nnNAGGld5mWj"
   },
   "outputs": [],
   "source": [
    "import numpy as np\n",
    "import itertools\n",
    "import sys\n",
    "import math"
   ]
  },
  {
   "cell_type": "code",
   "execution_count": 11,
   "metadata": {},
   "outputs": [
    {
     "name": "stdout",
     "output_type": "stream",
     "text": [
      "Количество успехов:  36\n",
      "Количество испытаний:  100\n",
      "Оценка вероятности:  0.36\n",
      "Вероятность события ровно k раз в n независимых испытаниях:  0.0015597393964779842\n"
     ]
    }
   ],
   "source": [
    "k, n = 10, 100\n",
    "a = np.random.randint(0, 2, n)\n",
    "b = np.random.randint(0, 2, n)\n",
    "c = np.random.randint(0, 2, n)\n",
    "d = np.random.randint(0, 2, n)\n",
    "x = a + b + c + d\n",
    "for i in range(0, n):\n",
    "    if x[i] == 1:\n",
    "        k = k + 1\n",
    "        \n",
    "factorial_1 = 1\n",
    "factorial_2 = 1\n",
    "factorial_3 = 1\n",
    "for i in range(2, n+1):\n",
    "    factorial_1 *= i\n",
    "for i in range(2, k+1):\n",
    "    factorial_2 *= i\n",
    "for i in range(2, n-k+1):\n",
    "    factorial_3 *= i\n",
    "    \n",
    "P = (factorial_1/(factorial_2*factorial_3))*0.5**k*0.5**(n-k)\n",
    "\n",
    "#print(k, n, k/n, P)\n",
    "print('Количество успехов: ', k)\n",
    "print('Количество испытаний: ', n)\n",
    "print('Оценка вероятности: ', k/n)\n",
    "print('Вероятность события ровно k раз в n независимых испытаниях: ', P)"
   ]
  },
  {
   "cell_type": "code",
   "execution_count": null,
   "metadata": {},
   "outputs": [],
   "source": []
  }
 ],
 "metadata": {
  "colab": {
   "collapsed_sections": [],
   "name": "Копия 4.4.ipynb",
   "provenance": []
  },
  "kernelspec": {
   "display_name": "Python 3 (ipykernel)",
   "language": "python",
   "name": "python3"
  },
  "language_info": {
   "codemirror_mode": {
    "name": "ipython",
    "version": 3
   },
   "file_extension": ".py",
   "mimetype": "text/x-python",
   "name": "python",
   "nbconvert_exporter": "python",
   "pygments_lexer": "ipython3",
   "version": "3.10.5"
  }
 },
 "nbformat": 4,
 "nbformat_minor": 1
}
