{
 "cells": [
  {
   "cell_type": "markdown",
   "id": "6e7f6da0",
   "metadata": {},
   "source": [
    "### 5.1.Вычислите, по возможности не используя программирование: (5E)^-1 где Е – единичная матрица размера 5х5."
   ]
  },
  {
   "cell_type": "code",
   "execution_count": 8,
   "id": "2ff7f3aa",
   "metadata": {},
   "outputs": [],
   "source": [
    "import numpy as np"
   ]
  },
  {
   "cell_type": "code",
   "execution_count": 9,
   "id": "75ecd1a0",
   "metadata": {
    "scrolled": false
   },
   "outputs": [
    {
     "name": "stdout",
     "output_type": "stream",
     "text": [
      "[[-8.87812752e-03  1.88054883e-02  3.92251816e-02  1.42857143e-02\n",
      "  -4.69733656e-02]\n",
      " [-1.81113801e-01  1.03631961e-01 -5.98062954e-02 -2.85714286e-02\n",
      "   6.17433414e-02]\n",
      " [ 3.85794996e-02 -4.89911219e-02  2.22760291e-02  1.42857143e-02\n",
      "   4.84261501e-04]\n",
      " [-3.16384181e-02  4.51977401e-02 -2.20338983e-02  2.29392328e-18\n",
      "   1.69491525e-03]\n",
      " [ 1.16384181e-01 -5.19774011e-02  2.03389831e-02 -2.63801177e-18\n",
      "  -1.69491525e-02]]\n"
     ]
    }
   ],
   "source": [
    "E=(np.matrix([[ 1, 2, 3, 4, 5],\n",
    "              [ 4, 5, 6, 7, 8],\n",
    "              [7, 8, 9, 0, 10],\n",
    "              [0, -1, 12, 13, -2],\n",
    "              [3, 8, 13, 6, 10]]))\n",
    "a = (5*E)**-1\n",
    "print(a)"
   ]
  },
  {
   "cell_type": "code",
   "execution_count": null,
   "id": "75d82b63",
   "metadata": {},
   "outputs": [],
   "source": []
  }
 ],
 "metadata": {
  "kernelspec": {
   "display_name": "Python 3 (ipykernel)",
   "language": "python",
   "name": "python3"
  },
  "language_info": {
   "codemirror_mode": {
    "name": "ipython",
    "version": 3
   },
   "file_extension": ".py",
   "mimetype": "text/x-python",
   "name": "python",
   "nbconvert_exporter": "python",
   "pygments_lexer": "ipython3",
   "version": "3.10.5"
  }
 },
 "nbformat": 4,
 "nbformat_minor": 5
}
