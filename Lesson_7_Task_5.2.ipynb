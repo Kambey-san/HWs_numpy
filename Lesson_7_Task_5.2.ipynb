{
 "cells": [
  {
   "cell_type": "markdown",
   "id": "29b9afeb",
   "metadata": {},
   "source": [
    "### Вычислите определитель:"
   ]
  },
  {
   "cell_type": "code",
   "execution_count": 36,
   "id": "8bd9e52c",
   "metadata": {},
   "outputs": [],
   "source": [
    "import numpy as np\n",
    "from numpy import linalg as la\n",
    "#Функция linalg.det() вычисляет определитель (детерминант) матрицы."
   ]
  },
  {
   "cell_type": "code",
   "execution_count": 37,
   "id": "74a782b6",
   "metadata": {
    "scrolled": false
   },
   "outputs": [
    {
     "name": "stdout",
     "output_type": "stream",
     "text": [
      "59\n"
     ]
    }
   ],
   "source": [
    "a = np.array([[1, 2, 3], \n",
    "              [4, 0, 6],\n",
    "              [7, 8, 9]])\n",
    "\n",
    "#print(a)\n",
    "b = int(la.det(a))\n",
    "print(round(b))"
   ]
  },
  {
   "cell_type": "code",
   "execution_count": null,
   "id": "9ff435af",
   "metadata": {},
   "outputs": [],
   "source": []
  }
 ],
 "metadata": {
  "kernelspec": {
   "display_name": "Python 3 (ipykernel)",
   "language": "python",
   "name": "python3"
  },
  "language_info": {
   "codemirror_mode": {
    "name": "ipython",
    "version": 3
   },
   "file_extension": ".py",
   "mimetype": "text/x-python",
   "name": "python",
   "nbconvert_exporter": "python",
   "pygments_lexer": "ipython3",
   "version": "3.10.5"
  }
 },
 "nbformat": 4,
 "nbformat_minor": 5
}
