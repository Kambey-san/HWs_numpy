{
 "cells": [
  {
   "cell_type": "markdown",
   "id": "29b9afeb",
   "metadata": {},
   "source": [
    "## 5.3\n",
    "### 1.Вычислите матрицу, обратную данной\n",
    "### 2. Приведите пример матрицы 4х4, ранг которой равен 1.\n",
    "\n"
   ]
  },
  {
   "cell_type": "code",
   "execution_count": 1,
   "id": "8bd9e52c",
   "metadata": {},
   "outputs": [],
   "source": [
    "import numpy as np\n",
    "from numpy import linalg as la\n",
    "#Функция linalg.inv() вычисляет обратную матрицу."
   ]
  },
  {
   "cell_type": "code",
   "execution_count": 2,
   "id": "74a782b6",
   "metadata": {
    "scrolled": false
   },
   "outputs": [
    {
     "name": "stdout",
     "output_type": "stream",
     "text": [
      "[[-0.8         0.1         0.2       ]\n",
      " [ 0.1        -0.2         0.1       ]\n",
      " [ 0.53333333  0.1        -0.13333333]]\n"
     ]
    }
   ],
   "source": [
    "a = np.array([[1, 2, 3], \n",
    "              [4, 0, 6],\n",
    "              [7, 8, 9]])\n",
    "\n",
    "a_inv = la.inv(a)\n",
    "print(a_inv)"
   ]
  },
  {
   "cell_type": "code",
   "execution_count": 3,
   "id": "9ff435af",
   "metadata": {},
   "outputs": [],
   "source": [
    "import numpy as np\n",
    "from numpy import linalg as la\n",
    "#Функция linalg.matrix_rank() вычисляет ранг матрицы "
   ]
  },
  {
   "cell_type": "code",
   "execution_count": 5,
   "id": "6ccfd0d6",
   "metadata": {},
   "outputs": [
    {
     "name": "stdout",
     "output_type": "stream",
     "text": [
      "1\n"
     ]
    }
   ],
   "source": [
    "b = np.array([[1, 0, 0, 0], \n",
    "              [0, 0, 0, 0],\n",
    "              [0, 0, 0, 0],\n",
    "              [0, 0, 0, 0]])\n",
    "print(la.matrix_rank(b))"
   ]
  }
 ],
 "metadata": {
  "kernelspec": {
   "display_name": "Python 3 (ipykernel)",
   "language": "python",
   "name": "python3"
  },
  "language_info": {
   "codemirror_mode": {
    "name": "ipython",
    "version": 3
   },
   "file_extension": ".py",
   "mimetype": "text/x-python",
   "name": "python",
   "nbconvert_exporter": "python",
   "pygments_lexer": "ipython3",
   "version": "3.10.5"
  }
 },
 "nbformat": 4,
 "nbformat_minor": 5
}
