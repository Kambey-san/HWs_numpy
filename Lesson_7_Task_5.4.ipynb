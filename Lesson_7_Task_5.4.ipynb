{
 "cells": [
  {
   "cell_type": "markdown",
   "id": "1b9b9f57",
   "metadata": {},
   "source": [
    "## 5.4\n",
    "### Вычислите скалярное произведение двух векторов\n"
   ]
  },
  {
   "cell_type": "code",
   "execution_count": 2,
   "id": "6fe41b6c",
   "metadata": {},
   "outputs": [],
   "source": [
    "import numpy as np\n",
    "from numpy import linalg as la\n",
    "#Функция numpy.dot() вычисляет  скалярное произведение двух векторов.\n",
    "%matplotlib inline\n",
    "import matplotlib.pyplot as plt"
   ]
  },
  {
   "cell_type": "code",
   "execution_count": 3,
   "id": "ea76fd93",
   "metadata": {
    "scrolled": true
   },
   "outputs": [
    {
     "name": "stdout",
     "output_type": "stream",
     "text": [
      "42\n"
     ]
    }
   ],
   "source": [
    "a = np.array([1,5])\n",
    "b = np.array([2,8])\n",
    "print(np.dot(a,b))"
   ]
  },
  {
   "cell_type": "code",
   "execution_count": 4,
   "id": "6e9d0c5e",
   "metadata": {},
   "outputs": [
    {
     "data": {
      "text/plain": [
       "0.9988681377244377"
      ]
     },
     "execution_count": 4,
     "metadata": {},
     "output_type": "execute_result"
    }
   ],
   "source": [
    "s = np.inner(a, b)\n",
    "s/(np.linalg.norm(a)*np.linalg.norm(b))"
   ]
  },
  {
   "cell_type": "code",
   "execution_count": 11,
   "id": "b85eac8f",
   "metadata": {},
   "outputs": [
    {
     "data": {
      "image/png": "[encoded data removed]",
      "text/plain": [
       "<Figure size 432x432 with 1 Axes>"
      ]
     },
     "metadata": {
      "needs_background": "light"
     },
     "output_type": "display_data"
    },
    {
     "data": {
      "text/plain": [
       "42.0"
      ]
     },
     "execution_count": 11,
     "metadata": {},
     "output_type": "execute_result"
    }
   ],
   "source": [
    "fig = plt.figure(figsize=(6,6))\n",
    "i = np.array([1,5], float)\n",
    "j = np.array([2,8], float)\n",
    "X, Y = np.array([0, 0]), np.array([0, 0])\n",
    "U, V = np.array([i[0], j[0]]), np.array([i[1], j[1]])\n",
    "\n",
    "plt.quiver(X, Y, U, V, angles='xy', scale_units='xy', scale=1)\n",
    "\n",
    "plt.xlim(-1, 10)\n",
    "plt.ylim(-1, 10)\n",
    "plt.grid(True)\n",
    "plt.show()\n",
    "np.inner(i, j)"
   ]
  },
  {
   "cell_type": "code",
   "execution_count": null,
   "id": "3d2213a2",
   "metadata": {},
   "outputs": [],
   "source": []
  }
 ],
 "metadata": {
  "kernelspec": {
   "display_name": "Python 3 (ipykernel)",
   "language": "python",
   "name": "python3"
  },
  "language_info": {
   "codemirror_mode": {
    "name": "ipython",
    "version": 3
   },
   "file_extension": ".py",
   "mimetype": "text/x-python",
   "name": "python",
   "nbconvert_exporter": "python",
   "pygments_lexer": "ipython3",
   "version": "3.10.5"
  }
 },
 "nbformat": 4,
 "nbformat_minor": 5
}
