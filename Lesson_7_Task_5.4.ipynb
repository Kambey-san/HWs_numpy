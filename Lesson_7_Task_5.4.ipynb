{
 "cells": [
  {
   "cell_type": "markdown",
   "id": "1b9b9f57",
   "metadata": {},
   "source": [
    "## 5.4\n",
    "### Вычислите скалярное произведение двух векторов\n"
   ]
  },
  {
   "cell_type": "code",
   "execution_count": 1,
   "id": "6fe41b6c",
   "metadata": {},
   "outputs": [],
   "source": [
    "import numpy as np\n",
    "from numpy import linalg as la\n",
    "#Функция numpy.dot() вычисляет  скалярное произведение двух векторов."
   ]
  },
  {
   "cell_type": "code",
   "execution_count": 2,
   "id": "ea76fd93",
   "metadata": {},
   "outputs": [
    {
     "name": "stdout",
     "output_type": "stream",
     "text": [
      "42\n"
     ]
    }
   ],
   "source": [
    "a = np.array([1,5])\n",
    "b = np.array([2,8])\n",
    "print(np.dot(a,b))"
   ]
  }
 ],
 "metadata": {
  "kernelspec": {
   "display_name": "Python 3 (ipykernel)",
   "language": "python",
   "name": "python3"
  },
  "language_info": {
   "codemirror_mode": {
    "name": "ipython",
    "version": 3
   },
   "file_extension": ".py",
   "mimetype": "text/x-python",
   "name": "python",
   "nbconvert_exporter": "python",
   "pygments_lexer": "ipython3",
   "version": "3.10.5"
  }
 },
 "nbformat": 4,
 "nbformat_minor": 5
}
