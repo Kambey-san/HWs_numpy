{
 "cells": [
  {
   "cell_type": "markdown",
   "id": "14ecf4ff",
   "metadata": {},
   "source": [
    "## 5.5\n",
    "### Вычислите смешанное произведение трех векторов"
   ]
  },
  {
   "cell_type": "code",
   "execution_count": 13,
   "id": "47f3464c",
   "metadata": {},
   "outputs": [],
   "source": [
    "import numpy as np\n",
    "from numpy import linalg as la"
   ]
  },
  {
   "cell_type": "code",
   "execution_count": 14,
   "id": "8012052f",
   "metadata": {},
   "outputs": [
    {
     "name": "stdout",
     "output_type": "stream",
     "text": [
      "228\n"
     ]
    }
   ],
   "source": [
    "a = ([1, 5, 0])\n",
    "b = ([2, 8, 7])\n",
    "c = ([7, 1.5, 3])\n",
    "#Смешанное произведение векторов равно определителю матрицы, составленной из этих векторов =>\n",
    "delta = int(la.det(np.array([a,b,c])))\n",
    "print(round(delta))"
   ]
  },
  {
   "cell_type": "code",
   "execution_count": null,
   "id": "ca2d5754",
   "metadata": {},
   "outputs": [],
   "source": []
  }
 ],
 "metadata": {
  "kernelspec": {
   "display_name": "Python 3 (ipykernel)",
   "language": "python",
   "name": "python3"
  },
  "language_info": {
   "codemirror_mode": {
    "name": "ipython",
    "version": 3
   },
   "file_extension": ".py",
   "mimetype": "text/x-python",
   "name": "python",
   "nbconvert_exporter": "python",
   "pygments_lexer": "ipython3",
   "version": "3.10.5"
  }
 },
 "nbformat": 4,
 "nbformat_minor": 5
}
