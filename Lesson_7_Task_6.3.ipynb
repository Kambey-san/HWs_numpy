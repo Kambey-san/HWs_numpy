{
 "cells": [
  {
   "attachments": {
    "image.png": {
     "image/png": "[encoded data removed]"
    }
   },
   "cell_type": "markdown",
   "id": "ca37351c",
   "metadata": {},
   "source": [
    "## Практическое задание №6\n",
    "### 3. Сколько решений имеет линейная система:\n",
    "![image.png](attachment:image.png)\n",
    "### Если ноль – то измените вектор правой части так, чтобы система стала совместной, и решите ее. "
   ]
  },
  {
   "cell_type": "code",
   "execution_count": 34,
   "id": "48822381",
   "metadata": {},
   "outputs": [],
   "source": [
    "import numpy as np"
   ]
  },
  {
   "cell_type": "code",
   "execution_count": 35,
   "id": "f7d967b1",
   "metadata": {},
   "outputs": [
    {
     "name": "stdout",
     "output_type": "stream",
     "text": [
      "False Система несовместная, имеет 0 решений\n"
     ]
    }
   ],
   "source": [
    "a = np.array([[1, 2, 3], \n",
    "              [4, 5, 6],\n",
    "              [7, 8, 9]])\n",
    "b = np.array([[12], \n",
    "              [2],\n",
    "              [1]])\n",
    "sum_A1 = np.sum([1, 2, 3])\n",
    "sum_A2 = np.sum([4, 5, 6])\n",
    "sum_A3 = np.sum([7, 8, 9])\n",
    "B1 = (b[0])\n",
    "B2 = (b[1])\n",
    "B3 = (b[2])\n",
    "if B1/sum_A1 == B2/sum_A2 == B3/sum_A3:\n",
    "    print(True)\n",
    "else:\n",
    "    print(False, 'Система несовместная, имеет 0 решений')\n",
    "old_settings = np.seterr(all='ignore')"
   ]
  },
  {
   "cell_type": "code",
   "execution_count": 40,
   "id": "84888e9b",
   "metadata": {},
   "outputs": [],
   "source": [
    "import numpy as np"
   ]
  },
  {
   "cell_type": "code",
   "execution_count": 44,
   "id": "4164340a",
   "metadata": {},
   "outputs": [
    {
     "name": "stdout",
     "output_type": "stream",
     "text": [
      "True Теперь система совместная, X = 2\n"
     ]
    }
   ],
   "source": [
    "A = np.array([[1, 2, 3], \n",
    "              [4, 5, 6],\n",
    "              [7, 8, 9]])\n",
    "\n",
    "b = np.array([[12], \n",
    "              [30],\n",
    "              [48]])\n",
    "\n",
    "sum_A1 = np.sum([1, 2, 3])\n",
    "sum_A2 = np.sum([4, 5, 6])\n",
    "sum_A3 = np.sum([7, 8, 9])\n",
    "B1 = (b[0])\n",
    "B2 = (b[1])\n",
    "B3 = (b[2])\n",
    "x = B1/sum_A1\n",
    "X = int(x[0])\n",
    "if B1/sum_A1 == B2/sum_A2 == B3/sum_A3:\n",
    "    print(True, 'Теперь система совместная, X =', X) \n",
    "else:\n",
    "    print(False, 'Система несовместная, имеет 0 решений')\n",
    "old_settings = np.seterr(all='ignore')"
   ]
  },
  {
   "cell_type": "code",
   "execution_count": null,
   "id": "f8d46a34",
   "metadata": {},
   "outputs": [],
   "source": []
  }
 ],
 "metadata": {
  "kernelspec": {
   "display_name": "Python 3 (ipykernel)",
   "language": "python",
   "name": "python3"
  },
  "language_info": {
   "codemirror_mode": {
    "name": "ipython",
    "version": 3
   },
   "file_extension": ".py",
   "mimetype": "text/x-python",
   "name": "python",
   "nbconvert_exporter": "python",
   "pygments_lexer": "ipython3",
   "version": "3.10.5"
  }
 },
 "nbformat": 4,
 "nbformat_minor": 5
}
