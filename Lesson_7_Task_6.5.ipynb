{
 "cells": [
  {
   "attachments": {
    "image.png": {
     "image/png": "[encoded data removed]"
    }
   },
   "cell_type": "markdown",
   "id": "edc7466a",
   "metadata": {},
   "source": [
    "## Практическое задание №6\n",
    "### 5. Найдите нормальное псевдорешение недоопределенной системы:\n",
    "![image.png](attachment:image.png)"
   ]
  },
  {
   "cell_type": "code",
   "execution_count": 34,
   "id": "8c6070b7",
   "metadata": {},
   "outputs": [],
   "source": [
    "import numpy as np\n",
    "import matplotlib.pyplot as plt"
   ]
  },
  {
   "cell_type": "code",
   "execution_count": 36,
   "id": "c85b373a",
   "metadata": {},
   "outputs": [
    {
     "name": "stdout",
     "output_type": "stream",
     "text": [
      "0.0 1.3940267779337574 [ 1.38095238 -0.19047619  0.        ]\n"
     ]
    }
   ],
   "source": [
    "A = np.array([ [1, 2, -1], [8, -5, 2] ])\n",
    "B = np.array([1, 12])\n",
    "Q, R = np.linalg.qr(A)\n",
    "R1 = R[:0, :0]\n",
    "R2 = R[:1, :1]\n",
    "R3 = R[:2, :2]\n",
    "B1 = np.dot(np.transpose(Q), B)[:0]\n",
    "B2 = np.dot(np.transpose(Q), B)[:1]\n",
    "B3 = np.dot(np.transpose(Q), B)[:2]\n",
    "X1 = np.linalg.solve(R1, B1)\n",
    "Y1 = np.linalg.solve(R2, B2)\n",
    "Z1 = np.linalg.solve(R3, B3)\n",
    "X2 = np.append(X1, 0)\n",
    "Y2 = np.append(Y1, 0)\n",
    "Z2 = np.append(Z1, 0)\n",
    "X = np.linalg.norm(X2)\n",
    "Y = np.linalg.norm(Y2)\n",
    "Y = np.linalg.norm(Z2)\n",
    "print(X, Y, Z)"
   ]
  }
 ],
 "metadata": {
  "kernelspec": {
   "display_name": "Python 3 (ipykernel)",
   "language": "python",
   "name": "python3"
  },
  "language_info": {
   "codemirror_mode": {
    "name": "ipython",
    "version": 3
   },
   "file_extension": ".py",
   "mimetype": "text/x-python",
   "name": "python",
   "nbconvert_exporter": "python",
   "pygments_lexer": "ipython3",
   "version": "3.10.5"
  }
 },
 "nbformat": 4,
 "nbformat_minor": 5
}
